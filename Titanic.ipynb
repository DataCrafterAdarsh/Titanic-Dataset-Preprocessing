{
 "cells": [
  {
   "cell_type": "code",
   "execution_count": 38,
   "id": "d9f7ae80-3e39-4f3a-b18c-775b0989341b",
   "metadata": {},
   "outputs": [],
   "source": [
    "import pandas as pd\n",
    "import numpy as nm\n",
    "\n"
   ]
  },
  {
   "cell_type": "code",
   "execution_count": 61,
   "id": "468f92a8-ee94-4e59-b45b-6f441b286647",
   "metadata": {},
   "outputs": [
    {
     "name": "stdout",
     "output_type": "stream",
     "text": [
      "['PassengerId', 'Survived', 'Pclass', 'Name', 'Sex', 'Age', 'SibSp', 'Parch', 'Ticket', 'Fare', 'Cabin', 'Embarked']\n"
     ]
    }
   ],
   "source": [
    "df=pd.read_csv('Titanic-Dataset.csv')\n",
    "print(df.columns.tolist())\n",
    "\n",
    "\n",
    "\n"
   ]
  },
  {
   "cell_type": "code",
   "execution_count": 72,
   "id": "99a6c7c3-c47f-4f73-a5db-c22411597d9e",
   "metadata": {},
   "outputs": [
    {
     "name": "stdout",
     "output_type": "stream",
     "text": [
      "<class 'pandas.core.frame.DataFrame'>\n",
      "RangeIndex: 891 entries, 0 to 890\n",
      "Data columns (total 13 columns):\n",
      " #   Column       Non-Null Count  Dtype  \n",
      "---  ------       --------------  -----  \n",
      " 0   PassengerId  891 non-null    int64  \n",
      " 1   Survived     891 non-null    int64  \n",
      " 2   Pclass       891 non-null    int64  \n",
      " 3   Name         891 non-null    object \n",
      " 4   Sex          0 non-null      float64\n",
      " 5   Age          714 non-null    float64\n",
      " 6   SibSp        891 non-null    int64  \n",
      " 7   Parch        891 non-null    int64  \n",
      " 8   Ticket       891 non-null    object \n",
      " 9   Fare         891 non-null    float64\n",
      " 10  Cabin        204 non-null    object \n",
      " 11  Embarked_Q   891 non-null    bool   \n",
      " 12  Embarked_S   891 non-null    bool   \n",
      "dtypes: bool(2), float64(3), int64(5), object(3)\n",
      "memory usage: 78.4+ KB\n",
      "None\n",
      "       PassengerId    Survived      Pclass  Sex         Age       SibSp  \\\n",
      "count   891.000000  891.000000  891.000000  0.0  714.000000  891.000000   \n",
      "mean    446.000000    0.383838    2.308642  NaN   29.699118    0.523008   \n",
      "std     257.353842    0.486592    0.836071  NaN   14.526497    1.102743   \n",
      "min       1.000000    0.000000    1.000000  NaN    0.420000    0.000000   \n",
      "25%     223.500000    0.000000    2.000000  NaN   20.125000    0.000000   \n",
      "50%     446.000000    0.000000    3.000000  NaN   28.000000    0.000000   \n",
      "75%     668.500000    1.000000    3.000000  NaN   38.000000    1.000000   \n",
      "max     891.000000    1.000000    3.000000  NaN   80.000000    8.000000   \n",
      "\n",
      "            Parch        Fare  \n",
      "count  891.000000  891.000000  \n",
      "mean     0.381594   32.204208  \n",
      "std      0.806057   49.693429  \n",
      "min      0.000000    0.000000  \n",
      "25%      0.000000    7.910400  \n",
      "50%      0.000000   14.454200  \n",
      "75%      0.000000   31.000000  \n",
      "max      6.000000  512.329200  \n",
      "PassengerId      0\n",
      "Survived         0\n",
      "Pclass           0\n",
      "Name             0\n",
      "Sex            891\n",
      "Age            177\n",
      "SibSp            0\n",
      "Parch            0\n",
      "Ticket           0\n",
      "Fare             0\n",
      "Cabin          687\n",
      "Embarked_Q       0\n",
      "Embarked_S       0\n",
      "dtype: int64\n"
     ]
    }
   ],
   "source": [
    "print(df.info())\n",
    "print(df.describe())\n",
    "print(df.isnull().sum())"
   ]
  },
  {
   "cell_type": "code",
   "execution_count": 55,
   "id": "e52418e0-b006-4b01-a44f-a98055f44825",
   "metadata": {},
   "outputs": [
    {
     "name": "stdout",
     "output_type": "stream",
     "text": [
      "\n",
      "Missing values in 'Age' filled with median.\n",
      "Dropped 'Cabin' column if it existed.\n"
     ]
    }
   ],
   "source": [
    "if 'Age' in df.columns:\n",
    "    df['Age']= df['Age'].fillna(df['Age'].median())\n",
    "    print(\"\\nMissing values in 'Age' filled with median.\")\n",
    "\n",
    "if 'Embarked' in df.columns:\n",
    "    df['Embarked']= df['Embarked'].fillna(df['Embarked'].mode()[0])\n",
    "    print(\"Missing values in 'Embarked' filled with mode.\")\n",
    "\n",
    "df.drop(columns=['Cabin'], inplace=True, errors='ignore')\n",
    "print(\"Dropped 'Cabin' column if it existed.\")\n",
    "\n",
    "\n",
    "\n"
   ]
  },
  {
   "cell_type": "code",
   "execution_count": 65,
   "id": "69025866-c0d8-4481-b523-a0d09e05db7d",
   "metadata": {},
   "outputs": [
    {
     "name": "stdout",
     "output_type": "stream",
     "text": [
      "Nulls in 'Sex': 891\n"
     ]
    }
   ],
   "source": [
    "if 'Sex' in df.columns:\n",
    "   \n",
    "    df['Sex'] = df['Sex'].astype(str).str.strip().str.lower()\n",
    "    \n",
    "   \n",
    "    df['Sex'] = df['Sex'].map({'male': 0, 'female': 1})\n",
    "    \n",
    "   \n",
    "    print(\"Nulls in 'Sex':\", df['Sex'].isnull().sum())"
   ]
  },
  {
   "cell_type": "code",
   "execution_count": 74,
   "id": "ec908446-2f7a-41ca-88b8-314baad57066",
   "metadata": {},
   "outputs": [
    {
     "name": "stdout",
     "output_type": "stream",
     "text": [
      "'Embarked' already encoded or not present.\n"
     ]
    }
   ],
   "source": [
    "if 'Embarked' in df.columns:\n",
    "    df['Embarked'].fillna(df['Embarked'].mode()[0], inplace=True)\n",
    "    df = pd.get_dummies(df, columns=['Embarked'], drop_first=True)\n",
    "    print(\"Embarked column encoded.\")\n",
    "else:\n",
    "    print(\"'Embarked' already encoded or not present.\")\n"
   ]
  },
  {
   "cell_type": "code",
   "execution_count": 58,
   "id": "8605c8c1-ac5b-4b58-9a35-3a6d843b1ac0",
   "metadata": {},
   "outputs": [
    {
     "name": "stdout",
     "output_type": "stream",
     "text": [
      "\n",
      "Numeric columns to scale: ['Age', 'Fare']\n",
      "\n",
      "After Standardization:\n",
      "         Age      Fare\n",
      "0 -0.685003 -0.761026\n",
      "2 -0.205275 -0.690011\n",
      "4  0.874111 -0.676860\n",
      "5  0.034588 -0.633904\n",
      "8 -0.085343 -0.352475\n"
     ]
    }
   ],
   "source": [
    "from sklearn.preprocessing import StandardScaler\n",
    "\n",
    "numeric_cols = ['Age' ,'Fare']\n",
    "numeric_cols = [col for col in numeric_cols if col in  df.columns]\n",
    "print(\"\\nNumeric columns to scale:\", numeric_cols)\n",
    "\n",
    "scaler = StandardScaler()\n",
    "df[numeric_cols] = scaler .fit_transform(df[numeric_cols])\n",
    "print(\"\\nAfter Standardization:\\n\", df[numeric_cols].head())"
   ]
  },
  {
   "cell_type": "code",
   "execution_count": 59,
   "id": "48cb16eb-cfab-4675-b680-e41e19fd4b32",
   "metadata": {},
   "outputs": [
    {
     "data": {
      "image/png": "[encoded data removed]",
      "text/plain": [
       "<Figure size 1000x400 with 1 Axes>"
      ]
     },
     "metadata": {},
     "output_type": "display_data"
    },
    {
     "name": "stdout",
     "output_type": "stream",
     "text": [
      "\n",
      "Detecting and removing outliers:\n",
      " - Age: 38 rows removed\n",
      " - Fare: 24 rows removed\n",
      "\n",
      "Final shape of DataFrame: (576, 12)\n",
      "\n",
      "Final column names:\n",
      " ['PassengerId', 'Survived', 'Pclass', 'Name', 'Sex', 'Age', 'SibSp', 'Parch', 'Ticket', 'Fare', 'Embarked_Q', 'Embarked_S']\n",
      "\n",
      "First 5 rows:\n",
      "    PassengerId  Survived  Pclass  \\\n",
      "0            1         0       3   \n",
      "2            3         1       3   \n",
      "4            5         0       3   \n",
      "5            6         0       3   \n",
      "8            9         1       3   \n",
      "\n",
      "                                                Name  Sex       Age  SibSp  \\\n",
      "0                            Braund, Mr. Owen Harris  NaN -0.685003      1   \n",
      "2                             Heikkinen, Miss. Laina  NaN -0.205275      0   \n",
      "4                           Allen, Mr. William Henry  NaN  0.874111      0   \n",
      "5                                   Moran, Mr. James  NaN  0.034588      0   \n",
      "8  Johnson, Mrs. Oscar W (Elisabeth Vilhelmina Berg)  NaN -0.085343      0   \n",
      "\n",
      "   Parch            Ticket      Fare  Embarked_Q  Embarked_S  \n",
      "0      0         A/5 21171 -0.761026       False        True  \n",
      "2      0  STON/O2. 3101282 -0.690011       False        True  \n",
      "4      0            373450 -0.676860       False        True  \n",
      "5      0            330877 -0.633904        True       False  \n",
      "8      2            347742 -0.352475       False        True  \n"
     ]
    }
   ],
   "source": [
    "import matplotlib.pyplot as plt\n",
    "import seaborn as sns\n",
    "plt.figure(figsize=(10,4))\n",
    "sns.boxplot(data=df[numeric_cols])\n",
    "plt.title(\"Boxplots for outlier detection\")\n",
    "plt.show()\n",
    "\n",
    "before_rows = df.shape[0]\n",
    "\n",
    "print(\"\\nDetecting and removing outliers:\")\n",
    "for col in numeric_cols:\n",
    "    Q1 = df[col].quantile(0.25)\n",
    "    Q3 =  df[col].quantile(0.75)\n",
    "    IQR = Q3 - Q1\n",
    "    lower = Q1 - 1.5 * IQR\n",
    "    upper = Q3 + 1.5 * IQR\n",
    "    \n",
    "    rows_before = df.shape[0]\n",
    "    df = df[(df[col] >= lower) & (df[col] <= upper)]\n",
    "    rows_after = df.shape[0]\n",
    "    print(f\" - {col}: {rows_before - rows_after} rows removed\")\n",
    "\n",
    "\n",
    "print(\"\\nFinal shape of DataFrame:\", df.shape)\n",
    "print(\"\\nFinal column names:\\n\", df.columns.tolist())\n",
    "print(\"\\nFirst 5 rows:\\n\", df.head())"
   ]
  },
  {
   "cell_type": "code",
   "execution_count": 60,
   "id": "8ebc9e41-1a6e-4d35-9498-8e9777bc1ca6",
   "metadata": {},
   "outputs": [
    {
     "name": "stdout",
     "output_type": "stream",
     "text": [
      "['PassengerId', 'Survived', 'Pclass', 'Name', 'Sex', 'Age', 'SibSp', 'Parch', 'Ticket', 'Fare', 'Embarked_Q', 'Embarked_S']\n"
     ]
    }
   ],
   "source": [
    "print(df.columns.tolist())\n"
   ]
  },
  {
   "cell_type": "code",
   "execution_count": null,
   "id": "b4bf7e3b-7ab0-4f81-93d8-985e5f392faa",
   "metadata": {},
   "outputs": [],
   "source": []
  },
  {
   "cell_type": "code",
   "execution_count": null,
   "id": "c1784f68-1e12-4eaf-97f6-3d3a122b3d54",
   "metadata": {},
   "outputs": [],
   "source": []
  }
 ],
 "metadata": {
  "kernelspec": {
   "display_name": "Python [conda env:base] *",
   "language": "python",
   "name": "conda-base-py"
  },
  "language_info": {
   "codemirror_mode": {
    "name": "ipython",
    "version": 3
   },
   "file_extension": ".py",
   "mimetype": "text/x-python",
   "name": "python",
   "nbconvert_exporter": "python",
   "pygments_lexer": "ipython3",
   "version": "3.12.7"
  }
 },
 "nbformat": 4,
 "nbformat_minor": 5
}
